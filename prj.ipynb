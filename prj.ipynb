{
 "cells": [
  {
   "cell_type": "markdown",
   "id": "1ffcf89e",
   "metadata": {},
   "source": [
    "# Necessary imports\n",
    "Here I use my real GPS data recorded outside for the use with\n",
    "Kalman Filter."
   ]
  },
  {
   "cell_type": "code",
   "execution_count": null,
   "id": "2167f92a",
   "metadata": {},
   "outputs": [],
   "source": [
    "/ Read the data from the GPS dataset\n",
    "t:(\"FFFFFFF\";enlist\",\") 0: `:data.csv"
   ]
  },
  {
   "cell_type": "code",
   "execution_count": 8,
   "id": "7fa72247",
   "metadata": {
    "scrolled": true
   },
   "outputs": [
    {
     "data": {
      "text/plain": [
       "time     ax      ay      az      Latitude Longitude Speed (m/s)\n",
       "---------------------------------------------------------------\n",
       "0.098634 0       0       0       0        0         0          \n",
       "0.160725 0       0       0       55.75024 48.74351  1.27       \n",
       "0.161885 0       0       0       55.75024 48.74351  1.27       \n",
       "0.224515 0       0       0       55.75024 48.74351  1.27       \n",
       "0.225168 0       0       0       55.75024 48.74351  1.27       \n",
       "0.286679 0       0       0       55.75024 48.74351  1.27       \n",
       "0.287367 0       0       0       55.75024 48.74351  1.27       \n",
       "0.349652 0       0       0       55.75024 48.74351  1.27       \n",
       "0.350454 0       0       0       55.75024 48.74351  1.27       \n",
       "0.41286  0       0       0       55.75024 48.74351  1.27       \n",
       "0.413996 0       0       0       55.75024 48.74351  1.27       \n",
       "0.475389 0       0       0       55.75024 48.74351  1.27       \n",
       "0.479517 0       0       0       55.75024 48.74351  1.27       \n",
       "0.537154 0       0       0       55.75024 48.74351  1.27       \n",
       "0.537792 -0.3828 2.3829  -2.5123 55.75026 48.74352  1.56       \n",
       "0.538779 -0.3828 2.3829  -2.5123 55.75026 48.74352  1.56       \n",
       "0.600367 -0.3828 2.3829  -2.5123 55.75026 48.74352  1.56       \n",
       "0.60118  -0.3828 2.3829  -2.5123 55.75026 48.74352  1.56       \n",
       "0.601652 1.0472  -0.7809 -9.7027 55.75026 48.74352  1.56       \n",
       "0.663277 1.0472  -0.7809 -9.7027 55.75026 48.74352  1.56       \n",
       "..\n"
      ]
     },
     "execution_count": 8,
     "metadata": {},
     "output_type": "execute_result"
    }
   ],
   "source": [
    "t"
   ]
  },
  {
   "cell_type": "code",
   "execution_count": 35,
   "id": "63453ee0",
   "metadata": {},
   "outputs": [],
   "source": [
    "/ Map matplotlib.pyplot into q\n",
    "/ It is needed for visualisations of the data\n",
    "/ The code is from the examples directory\n",
    "/ of the pyq library, I believe\n",
    "\n",
    "\\d .matplotlib\n",
    "isroutine:.p.import[`inspect;`:isroutine];\n",
    "getmembers:.p.qcallable .p.import[`inspect;`:getmembers];\n",
    "wrapm:{[x]\n",
    " names:getmembers[x;isroutine];\n",
    " res:``_pyobj!((::);x);\n",
    " res,:(`$names[;0])!{.p.pycallable y 1}[x]each names;\n",
    " res}\n",
    "pyplot:{wrapm .p.import`matplotlib.pyplot}\n",
    "\n",
    "\\d ."
   ]
  },
  {
   "cell_type": "markdown",
   "id": "d25923b0",
   "metadata": {},
   "source": [
    "# Preprocess dataset\n",
    "Here I am going to preprocess the data.\n",
    "\n",
    "1. Calculate distance\n",
    "2. Convert degrees to rads\n",
    "3. Calculate acceleration"
   ]
  },
  {
   "cell_type": "code",
   "execution_count": 23,
   "id": "8f95b654",
   "metadata": {
    "scrolled": true
   },
   "outputs": [],
   "source": [
    "/ Read necessary columns from the dataset\n",
    "/ QUESTION: What is a conventional way to\n",
    "/ extract a data column from the table?\n",
    "/ - First variant with simple extraction\n",
    "/ - Second varian is select function\n",
    "ts:1_t[;`time]\n",
    "ax:1_t[;`ax]\n",
    "ay:1_t[;`ay]\n",
    "az:1_t[;`az]\n",
    "/ Total amplitude of acceleraion vector\n",
    "/ is sqrt of sum of squares of acccelerations\n",
    "/ at each unit direction\n",
    "acc:sqrt (ax * ax) + (ay * ay) + (az * az)\n",
    "lat_deg:1_?[t;();();`Latitude]\n",
    "lon_deg:1_?[t;();();`Longitude]"
   ]
  },
  {
   "cell_type": "code",
   "execution_count": 26,
   "id": "63a46130",
   "metadata": {},
   "outputs": [],
   "source": [
    "/ Convert degrees to r\n",
    "to_rad:{[deg] acos[-1]*deg%180.0}"
   ]
  },
  {
   "cell_type": "code",
   "execution_count": 28,
   "id": "d1e4ed44",
   "metadata": {},
   "outputs": [],
   "source": [
    "/ Convert longitude and latitude\n",
    "/ to coordinates in meters\n",
    "to_meters:{[lon; lat] R:6371000; (x:R*lon*cos[lat]; y:R*lat)}"
   ]
  },
  {
   "cell_type": "code",
   "execution_count": 29,
   "id": "83999988",
   "metadata": {},
   "outputs": [],
   "source": [
    "lat_rad:to_rad lat_deg\n",
    "lon_rad:to_rad lon_deg"
   ]
  },
  {
   "cell_type": "code",
   "execution_count": 31,
   "id": "382af15c",
   "metadata": {},
   "outputs": [],
   "source": [
    "/ QUESTION: How to extract return value\n",
    "/ into multiple variables directly without\n",
    "/ the need to split it in the next cell?\n",
    "xy:to_meters[lon_rad; lat_rad]"
   ]
  },
  {
   "cell_type": "code",
   "execution_count": 33,
   "id": "389815ed",
   "metadata": {},
   "outputs": [],
   "source": [
    "x:@[xy; 0]\n",
    "y:@[xy; 1]"
   ]
  },
  {
   "cell_type": "code",
   "execution_count": 37,
   "id": "8c669c79",
   "metadata": {},
   "outputs": [
    {
     "data": {
      "image/png": "[encoded data removed]",
      "text/plain": [
       "<Figure size 460.8x345.6 with 1 Axes>"
      ]
     },
     "metadata": {},
     "output_type": "display_data"
    }
   ],
   "source": [
    "plt:.matplotlib.pyplot[]\n",
    "plt.plot[x; y];\n",
    "plt.xlabel\"X (m)\";\n",
    "plt.ylabel\"Y (m)\";\n",
    "plt.title\"Coordinates\";\n",
    "plt.grid 1b;\n",
    "plt.show[];"
   ]
  },
  {
   "cell_type": "markdown",
   "id": "35c84f7a",
   "metadata": {},
   "source": [
    "# Implementing Kalman Filter"
   ]
  },
  {
   "cell_type": "code",
   "execution_count": 287,
   "id": "2477e040",
   "metadata": {
    "scrolled": true
   },
   "outputs": [],
   "source": [
    "dt: ts[1] - ts[0]\n",
    "\n",
    "A: ((1; dt; dt * dt % 2; 0; 0; 0);\n",
    "    (0; 1; dt; 0; 0; 0);\n",
    "    (0; 0; 1; 0; 0; 0);\n",
    "    (0; 0; 0; 1; dt; dt * dt % 2);\n",
    "    (0; 0; 0; 0; 1; dt);\n",
    "    (0; 0; 0; 0; 0; 1));\n",
    "\n",
    "Q1: (((dt * dt * dt) % 6); ((dt * dt) % 2); (dt); (0); (0); (0));\n",
    "Q2: (0; 0; 0; (dt * dt * dt) % 6; (dt * dt) % 2; dt);\n",
    "\n",
    "xj: ((1_ax) - (-1_ax)) % ((1_ts) - (-1_ts));\n",
    "yj: ((1_ay) - (-1_ay)) % ((1_ts) - (-1_ts));\n",
    "j_var: max (var xj; var yj);\n",
    "\n",
    "/Q: j_var * (Q1 * ((1; 6)#Q1) + Q2 * ((1; 6)#Q2));\n",
    "/Q"
   ]
  },
  {
   "cell_type": "code",
   "execution_count": 303,
   "id": "e8e27841",
   "metadata": {},
   "outputs": [
    {
     "ename": "\u001b[0;31mrank\u001b[0m",
     "evalue": "\u001b[0;31mrank\u001b[0m",
     "output_type": "error",
     "traceback": [
      "\u001b[0;31mevaluation error:\n\u001b[0m",
      "\u001b[0;31mrank\u001b[0m",
      "\u001b[0;31m\u001b[0m",
      "\u001b[0;31m  [0]  flip Q1\n       ^\n\u001b[0m"
     ]
    }
   ],
   "source": [
    "/ Gives a rank error\n",
    "/ rank error means that\n",
    "/ I have provided invalid\n",
    "/ number of parameters to\n",
    "/ the function, but I believe\n",
    "/ I have provided a single\n",
    "/ vector to make a transposition.\n",
    "\n",
    "/ Vector is somehow interpreted\n",
    "/ Differently from the matrix\n",
    "/ And I am not sure how to \n",
    "/ Unify this behaviour\n",
    "flip Q1"
   ]
  },
  {
   "cell_type": "code",
   "execution_count": 303,
   "id": "010f7627",
   "metadata": {},
   "outputs": [
    {
     "ename": "\u001b[0;31mtype\u001b[0m",
     "evalue": "\u001b[0;31mtype\u001b[0m",
     "output_type": "error",
     "traceback": [
      "\u001b[0;31mevaluation error:\n\u001b[0m",
      "\u001b[0;31mtype\u001b[0m",
      "\u001b[0;31m\u001b[0m",
      "\u001b[0;31m  [0]  A mmu flip A\n         ^\n\u001b[0m"
     ]
    }
   ],
   "source": [
    "/ Gives an error - why?\n",
    "/ Error is \"type\" which means\n",
    "/ that the type of a given\n",
    "/ parameter is invalid\n",
    "/ But I don't feel like\n",
    "/ It is true. If yes, then\n",
    "/ How do I define matrices?\n",
    "A mmu flip A"
   ]
  },
  {
   "cell_type": "code",
   "execution_count": 290,
   "id": "ed617cd1",
   "metadata": {
    "scrolled": false
   },
   "outputs": [
    {
     "data": {
      "text/plain": [
       "1 0.00116 6.728e-07 0 0       0        \n",
       "0 1       0.00116   0 0       0        \n",
       "0 0       1         0 0       0        \n",
       "0 0       0         1 0.00116 6.728e-07\n",
       "0 0       0         0 1       0.00116  \n",
       "0 0       0         0 0       1        \n"
      ]
     },
     "execution_count": 290,
     "metadata": {},
     "output_type": "execute_result"
    }
   ],
   "source": [
    "A"
   ]
  },
  {
   "cell_type": "code",
   "execution_count": 199,
   "id": "4f20cf8e",
   "metadata": {},
   "outputs": [],
   "source": [
    "/ Writing recursive Kalman filter to\n",
    "/ avoid using loops. I have to store\n",
    "/ all results as one continuous \n",
    "/ vector and extract results as\n",
    "/ -6#comp_res; I am not sure how\n",
    "/ to append a list to a list of lists,\n",
    "/ and it is a workaround I use for now\n",
    "kalman_filter:{[z; A; Q; H; R; i; P; K]\n",
    "    res: (z[0; 0]; 0; 0; z[0; 1]; 0; 0);\n",
    "    if[i > 0; \n",
    "        comp_res: .z.s[z; A; Q; H; R; i - 1; P; K];\n",
    "        prev_res: -6#comp_res;\n",
    "        show comp_res;\n",
    "        show prev_res;\n",
    "        res:comp_res,(i; i; i; i; i; i)];\n",
    "    res}"
   ]
  },
  {
   "cell_type": "code",
   "execution_count": 200,
   "id": "e32d2850",
   "metadata": {},
   "outputs": [
    {
     "name": "stdout",
     "output_type": "stream",
     "text": [
      "0 0 0 0 0 0\n",
      "0 0 0 0 0 0\n",
      "0 0 0 0 0 0 1 1 1 1 1 1\n",
      "1 1 1 1 1 1\n",
      "0 0 0 0 0 0 1 1 1 1 1 1 2 2 2 2 2 2\n",
      "2 2 2 2 2 2\n"
     ]
    }
   ],
   "source": [
    "res: kalman_filter[((0; 0); (0; 0)); 0; 0; 0; 0; 3; 0; 0]"
   ]
  }
 ],
 "metadata": {
  "kernelspec": {
   "display_name": "Q (kdb+)",
   "language": "q",
   "name": "qpk"
  },
  "language_info": {
   "file_extension": ".q",
   "mimetype": "text/x-q",
   "name": "q",
   "version": "4.0"
  }
 },
 "nbformat": 4,
 "nbformat_minor": 5
}
